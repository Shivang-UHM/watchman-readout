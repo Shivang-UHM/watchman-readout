{
 "cells": [
  {
   "cell_type": "code",
   "execution_count": 1,
   "metadata": {},
   "outputs": [],
   "source": [
    "%matplotlib inline\n",
    "import matplotlib as mpl\n",
    "mpl.rcParams['figure.dpi']= 100 \n",
    "import matplotlib.pyplot as plt\n",
    "import sys  \n",
    "import pandas as pd\n",
    "#sys.path.append(\"../\")  \n",
    "from pulse_analysis import *"
   ]
  },
  {
   "cell_type": "code",
   "execution_count": 2,
   "metadata": {},
   "outputs": [],
   "source": [
    "filename = './data/pulseSweep10MHz.pcap'"
   ]
  },
  {
   "cell_type": "code",
   "execution_count": null,
   "metadata": {},
   "outputs": [],
   "source": [
    "nmbrWin = 16\n",
    "rep = 100\n",
    "sweepPositions = 118\n",
    "df=process_packet_pulseSweep(filename,0,nmbrWin)\n"
   ]
  },
  {
   "cell_type": "code",
   "execution_count": null,
   "metadata": {},
   "outputs": [],
   "source": [
    "df"
   ]
  },
  {
   "cell_type": "code",
   "execution_count": null,
   "metadata": {},
   "outputs": [],
   "source": [
    "df=df-200"
   ]
  },
  {
   "cell_type": "code",
   "execution_count": null,
   "metadata": {},
   "outputs": [],
   "source": [
    "df.iloc[:,::100].plot(subplots=True)\n",
    "plt.subplots_adjust( bottom=18, top=31)\n"
   ]
  },
  {
   "cell_type": "markdown",
   "metadata": {},
   "source": [
    "Window 8 to 12"
   ]
  },
  {
   "cell_type": "code",
   "execution_count": null,
   "metadata": {},
   "outputs": [],
   "source": [
    "nmbrSamples= 32*nmbrWin\n",
    "#rep=40pulseSweep_0_511_1w_1rep_0_500_100_osc_5.pcap\n",
    "fig, axes = plt.subplots(sweepPositions, 1)\n",
    "for i in range(0,sweepPositions,1):\n",
    "    df.iloc[:,i*rep:(i+1)*rep].plot(ax=axes[i], xticks=list(range(32*5,32*10,32)), legend=False, sharex=True, xlim=(32*5,32*10) )  \n",
    "    plt.text(0.5, 0.5, '{}'.format(i), horizontalalignment='center', verticalalignment='center', transform=axes[i].transAxes)\n",
    "   # axes[i].scatter(df.iloc[:,rep*i:rep*(i+1)].idxmax(),df.iloc[:,rep*i:rep*(i+1)].max(), marker='o', c='k')\n",
    "#    axes[i].grid()\n",
    "plt.xlabel('Time[ns]')\n",
    "plt.ylabel('ADC Counts')\n",
    "plt.subplots_adjust( bottom=18, top=31)\n",
    "#plt.savefig('PulseSweep.png')\n",
    "plt.show()"
   ]
  },
  {
   "cell_type": "code",
   "execution_count": null,
   "metadata": {},
   "outputs": [],
   "source": [
    "df_max= df.max()\n",
    "df_idxmax=df.idxmax()"
   ]
  },
  {
   "cell_type": "code",
   "execution_count": null,
   "metadata": {},
   "outputs": [],
   "source": [
    "standard = list()\n",
    "avg = list()\n",
    "fig3, axes3 = plt.subplots(1, 1)\n",
    "for l in range(0,sweepPositions,1):\n",
    "    df_max[l*rep:(l+1)*rep].plot()\n",
    "    standard.append(df_max[l*rep:(l+1)*rep].std())\n",
    "    avg.append(df_max[l*rep:(l+1)*rep].mean())\n",
    "axes3.set(xlabel= 'Number of digitized windows', ylabel='Amplitud [ADC counts]' )\n",
    "\n",
    "plt.show()"
   ]
  },
  {
   "cell_type": "code",
   "execution_count": null,
   "metadata": {},
   "outputs": [],
   "source": [
    "fig10, axes10 = plt.subplots(sweepPositions, 1)\n",
    "for l in range(0,sweepPositions,1):\n",
    "    df_max[l*rep:(l+1)*rep].hist(ax=axes10[l], range=(df_max[l*rep:(l+1)*rep].min(),df_max[l*rep:(l+1)*rep].max()), bins= df_max[l*rep:(l+1)*rep].max()- df_max[l*rep:(l+1)*rep].min())\n",
    "#    standard.append(df_max[l*rep:(l+1)*rep].std())\n",
    "#    avg.append(df_max[l*rep:(l+1)*rep].mean())\n",
    "#axes3.set(xlabel= 'Number of digitized windows', ylabel='Amplitud [ADC counts]' )\n",
    "plt.subplots_adjust( bottom=10, top=31)\n",
    "\n",
    "plt.show()"
   ]
  },
  {
   "cell_type": "code",
   "execution_count": null,
   "metadata": {},
   "outputs": [],
   "source": [
    "x =list(range(0,sweepPositions,1))\n",
    "fig7,axes7 = plt.subplots(1,1)\n",
    "axes7.errorbar(x,avg, yerr=standard, ecolor='k', capsize=2, lw=3, elinewidth=1)\n",
    "#axes7.set(xticks=list(range(0,32*5,32)))\n",
    "axes7.set(xlabel= 'Pulse number', ylabel='Average amplitud [ADC]' ,title='Each point is the average of 100 pulses',xticks=list(range(0,32*5,32)))\n",
    "plt.grid()\n",
    "plt.show()"
   ]
  },
  {
   "cell_type": "code",
   "execution_count": null,
   "metadata": {},
   "outputs": [],
   "source": [
    "fig4,axes4 = plt.subplots(1,1)\n",
    "axes4.plot(standard)\n",
    "axes4.set(xticks=list(range(0,32*5,32)))\n",
    "plt.grid()\n",
    "plt.show()"
   ]
  },
  {
   "cell_type": "code",
   "execution_count": null,
   "metadata": {},
   "outputs": [],
   "source": [
    "fig8,axes8 = plt.subplots(1,1)\n",
    "axes8.hist(avg)\n",
    "#axes8.set(xticks=list(range(0,32*8,32)))\n",
    "plt.grid()\n",
    "plt.show()"
   ]
  },
  {
   "cell_type": "code",
   "execution_count": null,
   "metadata": {},
   "outputs": [],
   "source": []
  },
  {
   "cell_type": "code",
   "execution_count": null,
   "metadata": {},
   "outputs": [],
   "source": [
    "\n",
    "standardIdx = list()\n",
    "avg_idx = list()\n",
    "#fig5, axes5 = plt.subplots(1, 1)\n",
    "for l in range(0,sweepPositions,1):\n",
    "  #  df_idxmax[m::256].plot(ax=axes5)\n",
    "    standardIdx.append(df_idxmax[l*rep:(l+1)*rep].std())\n",
    "    avg_idx.append(df_idxmax[l*rep:(l+1)*rep].mean())\n",
    "\n",
    "#plt.show()"
   ]
  },
  {
   "cell_type": "code",
   "execution_count": null,
   "metadata": {},
   "outputs": [],
   "source": [
    "fig10,axes10 = plt.subplots(1,1)\n",
    "axes10.errorbar(x,avg_idx, yerr=[x*10 for x in standardIdx], ecolor='k', capsize=2, lw=4, elinewidth=1)\n",
    "#axes10.set(xticks=list(range(0,32*5,32)))\n",
    "axes10.set(xlabel= 'Pulse number', ylabel='Average sample number of max ampl')\n",
    "plt.grid()\n",
    "plt.show()"
   ]
  },
  {
   "cell_type": "code",
   "execution_count": null,
   "metadata": {},
   "outputs": [],
   "source": [
    "fig6,axes6 = plt.subplots(1,1)\n",
    "axes6.plot(standardIdx)\n",
    "#axes6.set(xticks=list(range(0,32*4,32)))\n",
    "plt.grid()\n",
    "plt.show()"
   ]
  },
  {
   "cell_type": "code",
   "execution_count": null,
   "metadata": {},
   "outputs": [],
   "source": [
    "fig7,axes7 = plt.subplots(1,1)\n",
    "axes7.hist(standardIdx)\n",
    "axes7.set(xlabel='std (sample number of max ampl)')\n",
    "\n",
    "#axes6.set(xticks=list(range(0,32*8,32)))\n",
    "plt.grid()\n",
    "plt.show()"
   ]
  },
  {
   "cell_type": "code",
   "execution_count": null,
   "metadata": {},
   "outputs": [],
   "source": [
    "np.std(standardIdx[0:55])"
   ]
  },
  {
   "cell_type": "code",
   "execution_count": null,
   "metadata": {},
   "outputs": [],
   "source": [
    "fig7,axes7 = plt.subplots(1,1)\n",
    "axes7.hist(standardIdx[64:128])\n",
    "#axes6.set(xticks=list(range(0,32*8,32)))\n",
    "plt.grid()\n",
    "plt.show()"
   ]
  },
  {
   "cell_type": "code",
   "execution_count": null,
   "metadata": {},
   "outputs": [],
   "source": [
    "np.std(standardIdx[56:128])"
   ]
  }
 ],
 "metadata": {
  "kernelspec": {
   "display_name": "Python 3",
   "language": "python",
   "name": "python3"
  },
  "language_info": {
   "codemirror_mode": {
    "name": "ipython",
    "version": 3
   },
   "file_extension": ".py",
   "mimetype": "text/x-python",
   "name": "python",
   "nbconvert_exporter": "python",
   "pygments_lexer": "ipython3",
   "version": "3.6.9"
  }
 },
 "nbformat": 4,
 "nbformat_minor": 4
}
